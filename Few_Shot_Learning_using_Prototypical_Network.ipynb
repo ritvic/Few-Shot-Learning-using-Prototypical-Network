{
  "nbformat": 4,
  "nbformat_minor": 0,
  "metadata": {
    "kernelspec": {
      "display_name": "Python 3",
      "language": "python",
      "name": "python3"
    },
    "language_info": {
      "codemirror_mode": {
        "name": "ipython",
        "version": 2
      },
      "file_extension": ".py",
      "mimetype": "text/x-python",
      "name": "python",
      "nbconvert_exporter": "python",
      "pygments_lexer": "ipython2",
      "version": "2.7.6"
    },
    "colab": {
      "provenance": [],
      "toc_visible": true,
      "include_colab_link": true
    },
    "accelerator": "GPU",
    "widgets": {
      "application/vnd.jupyter.widget-state+json": {
        "bb323c58b9ce4d8d9f663ce32bc77c02": {
          "model_module": "@jupyter-widgets/controls",
          "model_name": "HBoxModel",
          "model_module_version": "1.5.0",
          "state": {
            "_dom_classes": [],
            "_model_module": "@jupyter-widgets/controls",
            "_model_module_version": "1.5.0",
            "_model_name": "HBoxModel",
            "_view_count": null,
            "_view_module": "@jupyter-widgets/controls",
            "_view_module_version": "1.5.0",
            "_view_name": "HBoxView",
            "box_style": "",
            "children": [
              "IPY_MODEL_58a04dcc8a2649b0921bcff87e21c6fd",
              "IPY_MODEL_3209590eb9b645b09d98add06f14a670",
              "IPY_MODEL_56652b2172674b86be7acecfb09cfa72"
            ],
            "layout": "IPY_MODEL_1170ad97fc744178b76a4dac79ba8426"
          }
        },
        "58a04dcc8a2649b0921bcff87e21c6fd": {
          "model_module": "@jupyter-widgets/controls",
          "model_name": "HTMLModel",
          "model_module_version": "1.5.0",
          "state": {
            "_dom_classes": [],
            "_model_module": "@jupyter-widgets/controls",
            "_model_module_version": "1.5.0",
            "_model_name": "HTMLModel",
            "_view_count": null,
            "_view_module": "@jupyter-widgets/controls",
            "_view_module_version": "1.5.0",
            "_view_name": "HTMLView",
            "description": "",
            "description_tooltip": null,
            "layout": "IPY_MODEL_b9ee797015f54e299981b94c86dc30b2",
            "placeholder": "​",
            "style": "IPY_MODEL_e6256ec7bacf4ea78a009101f82d9f8c",
            "value": "100%"
          }
        },
        "3209590eb9b645b09d98add06f14a670": {
          "model_module": "@jupyter-widgets/controls",
          "model_name": "FloatProgressModel",
          "model_module_version": "1.5.0",
          "state": {
            "_dom_classes": [],
            "_model_module": "@jupyter-widgets/controls",
            "_model_module_version": "1.5.0",
            "_model_name": "FloatProgressModel",
            "_view_count": null,
            "_view_module": "@jupyter-widgets/controls",
            "_view_module_version": "1.5.0",
            "_view_name": "ProgressView",
            "bar_style": "success",
            "description": "",
            "description_tooltip": null,
            "layout": "IPY_MODEL_6f7e460fd0bf4aa998060de4385f0b98",
            "max": 9464212,
            "min": 0,
            "orientation": "horizontal",
            "style": "IPY_MODEL_584f980ac3e24a60b442b0d930731eb6",
            "value": 9464212
          }
        },
        "56652b2172674b86be7acecfb09cfa72": {
          "model_module": "@jupyter-widgets/controls",
          "model_name": "HTMLModel",
          "model_module_version": "1.5.0",
          "state": {
            "_dom_classes": [],
            "_model_module": "@jupyter-widgets/controls",
            "_model_module_version": "1.5.0",
            "_model_name": "HTMLModel",
            "_view_count": null,
            "_view_module": "@jupyter-widgets/controls",
            "_view_module_version": "1.5.0",
            "_view_name": "HTMLView",
            "description": "",
            "description_tooltip": null,
            "layout": "IPY_MODEL_b5ad199cbbd942d0979a033ff0814127",
            "placeholder": "​",
            "style": "IPY_MODEL_ca66c09f04c7453f95d810a995d8b0ec",
            "value": " 9464212/9464212 [00:00&lt;00:00, 163240911.81it/s]"
          }
        },
        "1170ad97fc744178b76a4dac79ba8426": {
          "model_module": "@jupyter-widgets/base",
          "model_name": "LayoutModel",
          "model_module_version": "1.2.0",
          "state": {
            "_model_module": "@jupyter-widgets/base",
            "_model_module_version": "1.2.0",
            "_model_name": "LayoutModel",
            "_view_count": null,
            "_view_module": "@jupyter-widgets/base",
            "_view_module_version": "1.2.0",
            "_view_name": "LayoutView",
            "align_content": null,
            "align_items": null,
            "align_self": null,
            "border": null,
            "bottom": null,
            "display": null,
            "flex": null,
            "flex_flow": null,
            "grid_area": null,
            "grid_auto_columns": null,
            "grid_auto_flow": null,
            "grid_auto_rows": null,
            "grid_column": null,
            "grid_gap": null,
            "grid_row": null,
            "grid_template_areas": null,
            "grid_template_columns": null,
            "grid_template_rows": null,
            "height": null,
            "justify_content": null,
            "justify_items": null,
            "left": null,
            "margin": null,
            "max_height": null,
            "max_width": null,
            "min_height": null,
            "min_width": null,
            "object_fit": null,
            "object_position": null,
            "order": null,
            "overflow": null,
            "overflow_x": null,
            "overflow_y": null,
            "padding": null,
            "right": null,
            "top": null,
            "visibility": null,
            "width": null
          }
        },
        "b9ee797015f54e299981b94c86dc30b2": {
          "model_module": "@jupyter-widgets/base",
          "model_name": "LayoutModel",
          "model_module_version": "1.2.0",
          "state": {
            "_model_module": "@jupyter-widgets/base",
            "_model_module_version": "1.2.0",
            "_model_name": "LayoutModel",
            "_view_count": null,
            "_view_module": "@jupyter-widgets/base",
            "_view_module_version": "1.2.0",
            "_view_name": "LayoutView",
            "align_content": null,
            "align_items": null,
            "align_self": null,
            "border": null,
            "bottom": null,
            "display": null,
            "flex": null,
            "flex_flow": null,
            "grid_area": null,
            "grid_auto_columns": null,
            "grid_auto_flow": null,
            "grid_auto_rows": null,
            "grid_column": null,
            "grid_gap": null,
            "grid_row": null,
            "grid_template_areas": null,
            "grid_template_columns": null,
            "grid_template_rows": null,
            "height": null,
            "justify_content": null,
            "justify_items": null,
            "left": null,
            "margin": null,
            "max_height": null,
            "max_width": null,
            "min_height": null,
            "min_width": null,
            "object_fit": null,
            "object_position": null,
            "order": null,
            "overflow": null,
            "overflow_x": null,
            "overflow_y": null,
            "padding": null,
            "right": null,
            "top": null,
            "visibility": null,
            "width": null
          }
        },
        "e6256ec7bacf4ea78a009101f82d9f8c": {
          "model_module": "@jupyter-widgets/controls",
          "model_name": "DescriptionStyleModel",
          "model_module_version": "1.5.0",
          "state": {
            "_model_module": "@jupyter-widgets/controls",
            "_model_module_version": "1.5.0",
            "_model_name": "DescriptionStyleModel",
            "_view_count": null,
            "_view_module": "@jupyter-widgets/base",
            "_view_module_version": "1.2.0",
            "_view_name": "StyleView",
            "description_width": ""
          }
        },
        "6f7e460fd0bf4aa998060de4385f0b98": {
          "model_module": "@jupyter-widgets/base",
          "model_name": "LayoutModel",
          "model_module_version": "1.2.0",
          "state": {
            "_model_module": "@jupyter-widgets/base",
            "_model_module_version": "1.2.0",
            "_model_name": "LayoutModel",
            "_view_count": null,
            "_view_module": "@jupyter-widgets/base",
            "_view_module_version": "1.2.0",
            "_view_name": "LayoutView",
            "align_content": null,
            "align_items": null,
            "align_self": null,
            "border": null,
            "bottom": null,
            "display": null,
            "flex": null,
            "flex_flow": null,
            "grid_area": null,
            "grid_auto_columns": null,
            "grid_auto_flow": null,
            "grid_auto_rows": null,
            "grid_column": null,
            "grid_gap": null,
            "grid_row": null,
            "grid_template_areas": null,
            "grid_template_columns": null,
            "grid_template_rows": null,
            "height": null,
            "justify_content": null,
            "justify_items": null,
            "left": null,
            "margin": null,
            "max_height": null,
            "max_width": null,
            "min_height": null,
            "min_width": null,
            "object_fit": null,
            "object_position": null,
            "order": null,
            "overflow": null,
            "overflow_x": null,
            "overflow_y": null,
            "padding": null,
            "right": null,
            "top": null,
            "visibility": null,
            "width": null
          }
        },
        "584f980ac3e24a60b442b0d930731eb6": {
          "model_module": "@jupyter-widgets/controls",
          "model_name": "ProgressStyleModel",
          "model_module_version": "1.5.0",
          "state": {
            "_model_module": "@jupyter-widgets/controls",
            "_model_module_version": "1.5.0",
            "_model_name": "ProgressStyleModel",
            "_view_count": null,
            "_view_module": "@jupyter-widgets/base",
            "_view_module_version": "1.2.0",
            "_view_name": "StyleView",
            "bar_color": null,
            "description_width": ""
          }
        },
        "b5ad199cbbd942d0979a033ff0814127": {
          "model_module": "@jupyter-widgets/base",
          "model_name": "LayoutModel",
          "model_module_version": "1.2.0",
          "state": {
            "_model_module": "@jupyter-widgets/base",
            "_model_module_version": "1.2.0",
            "_model_name": "LayoutModel",
            "_view_count": null,
            "_view_module": "@jupyter-widgets/base",
            "_view_module_version": "1.2.0",
            "_view_name": "LayoutView",
            "align_content": null,
            "align_items": null,
            "align_self": null,
            "border": null,
            "bottom": null,
            "display": null,
            "flex": null,
            "flex_flow": null,
            "grid_area": null,
            "grid_auto_columns": null,
            "grid_auto_flow": null,
            "grid_auto_rows": null,
            "grid_column": null,
            "grid_gap": null,
            "grid_row": null,
            "grid_template_areas": null,
            "grid_template_columns": null,
            "grid_template_rows": null,
            "height": null,
            "justify_content": null,
            "justify_items": null,
            "left": null,
            "margin": null,
            "max_height": null,
            "max_width": null,
            "min_height": null,
            "min_width": null,
            "object_fit": null,
            "object_position": null,
            "order": null,
            "overflow": null,
            "overflow_x": null,
            "overflow_y": null,
            "padding": null,
            "right": null,
            "top": null,
            "visibility": null,
            "width": null
          }
        },
        "ca66c09f04c7453f95d810a995d8b0ec": {
          "model_module": "@jupyter-widgets/controls",
          "model_name": "DescriptionStyleModel",
          "model_module_version": "1.5.0",
          "state": {
            "_model_module": "@jupyter-widgets/controls",
            "_model_module_version": "1.5.0",
            "_model_name": "DescriptionStyleModel",
            "_view_count": null,
            "_view_module": "@jupyter-widgets/base",
            "_view_module_version": "1.2.0",
            "_view_name": "StyleView",
            "description_width": ""
          }
        },
        "6bb54a2e7cb544959577b1dcd12bfeb3": {
          "model_module": "@jupyter-widgets/controls",
          "model_name": "HBoxModel",
          "model_module_version": "1.5.0",
          "state": {
            "_dom_classes": [],
            "_model_module": "@jupyter-widgets/controls",
            "_model_module_version": "1.5.0",
            "_model_name": "HBoxModel",
            "_view_count": null,
            "_view_module": "@jupyter-widgets/controls",
            "_view_module_version": "1.5.0",
            "_view_name": "HBoxView",
            "box_style": "",
            "children": [
              "IPY_MODEL_7a248131ec0c4fbbb4a7dc1ff2b3582b",
              "IPY_MODEL_a94797ef316d4e73a3671142c2bc061b",
              "IPY_MODEL_c2e62c49edc04a16ba362301130eafb0"
            ],
            "layout": "IPY_MODEL_c8f00f2864884e90b13011e7da199f5c"
          }
        },
        "7a248131ec0c4fbbb4a7dc1ff2b3582b": {
          "model_module": "@jupyter-widgets/controls",
          "model_name": "HTMLModel",
          "model_module_version": "1.5.0",
          "state": {
            "_dom_classes": [],
            "_model_module": "@jupyter-widgets/controls",
            "_model_module_version": "1.5.0",
            "_model_name": "HTMLModel",
            "_view_count": null,
            "_view_module": "@jupyter-widgets/controls",
            "_view_module_version": "1.5.0",
            "_view_name": "HTMLView",
            "description": "",
            "description_tooltip": null,
            "layout": "IPY_MODEL_b94ceab941d44fedb88f091743ee56e7",
            "placeholder": "​",
            "style": "IPY_MODEL_e2a2dc6e7ef443a3bc714ba160a8d6c9",
            "value": "100%"
          }
        },
        "a94797ef316d4e73a3671142c2bc061b": {
          "model_module": "@jupyter-widgets/controls",
          "model_name": "FloatProgressModel",
          "model_module_version": "1.5.0",
          "state": {
            "_dom_classes": [],
            "_model_module": "@jupyter-widgets/controls",
            "_model_module_version": "1.5.0",
            "_model_name": "FloatProgressModel",
            "_view_count": null,
            "_view_module": "@jupyter-widgets/controls",
            "_view_module_version": "1.5.0",
            "_view_name": "ProgressView",
            "bar_style": "success",
            "description": "",
            "description_tooltip": null,
            "layout": "IPY_MODEL_cd74b45417424fe1821b44d9303a4cdf",
            "max": 6462886,
            "min": 0,
            "orientation": "horizontal",
            "style": "IPY_MODEL_5fe26e21bacf442b9d01b7a34f0d73a7",
            "value": 6462886
          }
        },
        "c2e62c49edc04a16ba362301130eafb0": {
          "model_module": "@jupyter-widgets/controls",
          "model_name": "HTMLModel",
          "model_module_version": "1.5.0",
          "state": {
            "_dom_classes": [],
            "_model_module": "@jupyter-widgets/controls",
            "_model_module_version": "1.5.0",
            "_model_name": "HTMLModel",
            "_view_count": null,
            "_view_module": "@jupyter-widgets/controls",
            "_view_module_version": "1.5.0",
            "_view_name": "HTMLView",
            "description": "",
            "description_tooltip": null,
            "layout": "IPY_MODEL_b95ca50822ff4d669bf66507f15ced77",
            "placeholder": "​",
            "style": "IPY_MODEL_1af51e99da3b4955bcbf012d906295bb",
            "value": " 6462886/6462886 [00:00&lt;00:00, 33382206.58it/s]"
          }
        },
        "c8f00f2864884e90b13011e7da199f5c": {
          "model_module": "@jupyter-widgets/base",
          "model_name": "LayoutModel",
          "model_module_version": "1.2.0",
          "state": {
            "_model_module": "@jupyter-widgets/base",
            "_model_module_version": "1.2.0",
            "_model_name": "LayoutModel",
            "_view_count": null,
            "_view_module": "@jupyter-widgets/base",
            "_view_module_version": "1.2.0",
            "_view_name": "LayoutView",
            "align_content": null,
            "align_items": null,
            "align_self": null,
            "border": null,
            "bottom": null,
            "display": null,
            "flex": null,
            "flex_flow": null,
            "grid_area": null,
            "grid_auto_columns": null,
            "grid_auto_flow": null,
            "grid_auto_rows": null,
            "grid_column": null,
            "grid_gap": null,
            "grid_row": null,
            "grid_template_areas": null,
            "grid_template_columns": null,
            "grid_template_rows": null,
            "height": null,
            "justify_content": null,
            "justify_items": null,
            "left": null,
            "margin": null,
            "max_height": null,
            "max_width": null,
            "min_height": null,
            "min_width": null,
            "object_fit": null,
            "object_position": null,
            "order": null,
            "overflow": null,
            "overflow_x": null,
            "overflow_y": null,
            "padding": null,
            "right": null,
            "top": null,
            "visibility": null,
            "width": null
          }
        },
        "b94ceab941d44fedb88f091743ee56e7": {
          "model_module": "@jupyter-widgets/base",
          "model_name": "LayoutModel",
          "model_module_version": "1.2.0",
          "state": {
            "_model_module": "@jupyter-widgets/base",
            "_model_module_version": "1.2.0",
            "_model_name": "LayoutModel",
            "_view_count": null,
            "_view_module": "@jupyter-widgets/base",
            "_view_module_version": "1.2.0",
            "_view_name": "LayoutView",
            "align_content": null,
            "align_items": null,
            "align_self": null,
            "border": null,
            "bottom": null,
            "display": null,
            "flex": null,
            "flex_flow": null,
            "grid_area": null,
            "grid_auto_columns": null,
            "grid_auto_flow": null,
            "grid_auto_rows": null,
            "grid_column": null,
            "grid_gap": null,
            "grid_row": null,
            "grid_template_areas": null,
            "grid_template_columns": null,
            "grid_template_rows": null,
            "height": null,
            "justify_content": null,
            "justify_items": null,
            "left": null,
            "margin": null,
            "max_height": null,
            "max_width": null,
            "min_height": null,
            "min_width": null,
            "object_fit": null,
            "object_position": null,
            "order": null,
            "overflow": null,
            "overflow_x": null,
            "overflow_y": null,
            "padding": null,
            "right": null,
            "top": null,
            "visibility": null,
            "width": null
          }
        },
        "e2a2dc6e7ef443a3bc714ba160a8d6c9": {
          "model_module": "@jupyter-widgets/controls",
          "model_name": "DescriptionStyleModel",
          "model_module_version": "1.5.0",
          "state": {
            "_model_module": "@jupyter-widgets/controls",
            "_model_module_version": "1.5.0",
            "_model_name": "DescriptionStyleModel",
            "_view_count": null,
            "_view_module": "@jupyter-widgets/base",
            "_view_module_version": "1.2.0",
            "_view_name": "StyleView",
            "description_width": ""
          }
        },
        "cd74b45417424fe1821b44d9303a4cdf": {
          "model_module": "@jupyter-widgets/base",
          "model_name": "LayoutModel",
          "model_module_version": "1.2.0",
          "state": {
            "_model_module": "@jupyter-widgets/base",
            "_model_module_version": "1.2.0",
            "_model_name": "LayoutModel",
            "_view_count": null,
            "_view_module": "@jupyter-widgets/base",
            "_view_module_version": "1.2.0",
            "_view_name": "LayoutView",
            "align_content": null,
            "align_items": null,
            "align_self": null,
            "border": null,
            "bottom": null,
            "display": null,
            "flex": null,
            "flex_flow": null,
            "grid_area": null,
            "grid_auto_columns": null,
            "grid_auto_flow": null,
            "grid_auto_rows": null,
            "grid_column": null,
            "grid_gap": null,
            "grid_row": null,
            "grid_template_areas": null,
            "grid_template_columns": null,
            "grid_template_rows": null,
            "height": null,
            "justify_content": null,
            "justify_items": null,
            "left": null,
            "margin": null,
            "max_height": null,
            "max_width": null,
            "min_height": null,
            "min_width": null,
            "object_fit": null,
            "object_position": null,
            "order": null,
            "overflow": null,
            "overflow_x": null,
            "overflow_y": null,
            "padding": null,
            "right": null,
            "top": null,
            "visibility": null,
            "width": null
          }
        },
        "5fe26e21bacf442b9d01b7a34f0d73a7": {
          "model_module": "@jupyter-widgets/controls",
          "model_name": "ProgressStyleModel",
          "model_module_version": "1.5.0",
          "state": {
            "_model_module": "@jupyter-widgets/controls",
            "_model_module_version": "1.5.0",
            "_model_name": "ProgressStyleModel",
            "_view_count": null,
            "_view_module": "@jupyter-widgets/base",
            "_view_module_version": "1.2.0",
            "_view_name": "StyleView",
            "bar_color": null,
            "description_width": ""
          }
        },
        "b95ca50822ff4d669bf66507f15ced77": {
          "model_module": "@jupyter-widgets/base",
          "model_name": "LayoutModel",
          "model_module_version": "1.2.0",
          "state": {
            "_model_module": "@jupyter-widgets/base",
            "_model_module_version": "1.2.0",
            "_model_name": "LayoutModel",
            "_view_count": null,
            "_view_module": "@jupyter-widgets/base",
            "_view_module_version": "1.2.0",
            "_view_name": "LayoutView",
            "align_content": null,
            "align_items": null,
            "align_self": null,
            "border": null,
            "bottom": null,
            "display": null,
            "flex": null,
            "flex_flow": null,
            "grid_area": null,
            "grid_auto_columns": null,
            "grid_auto_flow": null,
            "grid_auto_rows": null,
            "grid_column": null,
            "grid_gap": null,
            "grid_row": null,
            "grid_template_areas": null,
            "grid_template_columns": null,
            "grid_template_rows": null,
            "height": null,
            "justify_content": null,
            "justify_items": null,
            "left": null,
            "margin": null,
            "max_height": null,
            "max_width": null,
            "min_height": null,
            "min_width": null,
            "object_fit": null,
            "object_position": null,
            "order": null,
            "overflow": null,
            "overflow_x": null,
            "overflow_y": null,
            "padding": null,
            "right": null,
            "top": null,
            "visibility": null,
            "width": null
          }
        },
        "1af51e99da3b4955bcbf012d906295bb": {
          "model_module": "@jupyter-widgets/controls",
          "model_name": "DescriptionStyleModel",
          "model_module_version": "1.5.0",
          "state": {
            "_model_module": "@jupyter-widgets/controls",
            "_model_module_version": "1.5.0",
            "_model_name": "DescriptionStyleModel",
            "_view_count": null,
            "_view_module": "@jupyter-widgets/base",
            "_view_module_version": "1.2.0",
            "_view_name": "StyleView",
            "description_width": ""
          }
        },
        "b6ccc9746ac543a8ae7eb8f67c841be6": {
          "model_module": "@jupyter-widgets/controls",
          "model_name": "HBoxModel",
          "model_module_version": "1.5.0",
          "state": {
            "_dom_classes": [],
            "_model_module": "@jupyter-widgets/controls",
            "_model_module_version": "1.5.0",
            "_model_name": "HBoxModel",
            "_view_count": null,
            "_view_module": "@jupyter-widgets/controls",
            "_view_module_version": "1.5.0",
            "_view_name": "HBoxView",
            "box_style": "",
            "children": [
              "IPY_MODEL_4fed6e2c715b44139a2ee72589fa1d48",
              "IPY_MODEL_ca9dc162f8c741cabb7eb6f3a0e20c9f",
              "IPY_MODEL_a3f89ec0fdc340a49289bb03d1d36c06"
            ],
            "layout": "IPY_MODEL_d6b0530354a5464db13e413d187c5a68"
          }
        },
        "4fed6e2c715b44139a2ee72589fa1d48": {
          "model_module": "@jupyter-widgets/controls",
          "model_name": "HTMLModel",
          "model_module_version": "1.5.0",
          "state": {
            "_dom_classes": [],
            "_model_module": "@jupyter-widgets/controls",
            "_model_module_version": "1.5.0",
            "_model_name": "HTMLModel",
            "_view_count": null,
            "_view_module": "@jupyter-widgets/controls",
            "_view_module_version": "1.5.0",
            "_view_name": "HTMLView",
            "description": "",
            "description_tooltip": null,
            "layout": "IPY_MODEL_a448e0e460334049adbedc373c5230c1",
            "placeholder": "​",
            "style": "IPY_MODEL_28b9b695d5214a13bd082749a79c73b8",
            "value": "100%"
          }
        },
        "ca9dc162f8c741cabb7eb6f3a0e20c9f": {
          "model_module": "@jupyter-widgets/controls",
          "model_name": "FloatProgressModel",
          "model_module_version": "1.5.0",
          "state": {
            "_dom_classes": [],
            "_model_module": "@jupyter-widgets/controls",
            "_model_module_version": "1.5.0",
            "_model_name": "FloatProgressModel",
            "_view_count": null,
            "_view_module": "@jupyter-widgets/controls",
            "_view_module_version": "1.5.0",
            "_view_name": "ProgressView",
            "bar_style": "success",
            "description": "",
            "description_tooltip": null,
            "layout": "IPY_MODEL_5f59b85869c94534a8f7fd30e944b560",
            "max": 46830571,
            "min": 0,
            "orientation": "horizontal",
            "style": "IPY_MODEL_f191b74f155f4f9bb4d61ca38407b44b",
            "value": 46830571
          }
        },
        "a3f89ec0fdc340a49289bb03d1d36c06": {
          "model_module": "@jupyter-widgets/controls",
          "model_name": "HTMLModel",
          "model_module_version": "1.5.0",
          "state": {
            "_dom_classes": [],
            "_model_module": "@jupyter-widgets/controls",
            "_model_module_version": "1.5.0",
            "_model_name": "HTMLModel",
            "_view_count": null,
            "_view_module": "@jupyter-widgets/controls",
            "_view_module_version": "1.5.0",
            "_view_name": "HTMLView",
            "description": "",
            "description_tooltip": null,
            "layout": "IPY_MODEL_5a4ff426af454df98aef3ab35170e180",
            "placeholder": "​",
            "style": "IPY_MODEL_9b0ba654c1ec474b8530ad30ecde7fd8",
            "value": " 44.7M/44.7M [00:00&lt;00:00, 64.2MB/s]"
          }
        },
        "d6b0530354a5464db13e413d187c5a68": {
          "model_module": "@jupyter-widgets/base",
          "model_name": "LayoutModel",
          "model_module_version": "1.2.0",
          "state": {
            "_model_module": "@jupyter-widgets/base",
            "_model_module_version": "1.2.0",
            "_model_name": "LayoutModel",
            "_view_count": null,
            "_view_module": "@jupyter-widgets/base",
            "_view_module_version": "1.2.0",
            "_view_name": "LayoutView",
            "align_content": null,
            "align_items": null,
            "align_self": null,
            "border": null,
            "bottom": null,
            "display": null,
            "flex": null,
            "flex_flow": null,
            "grid_area": null,
            "grid_auto_columns": null,
            "grid_auto_flow": null,
            "grid_auto_rows": null,
            "grid_column": null,
            "grid_gap": null,
            "grid_row": null,
            "grid_template_areas": null,
            "grid_template_columns": null,
            "grid_template_rows": null,
            "height": null,
            "justify_content": null,
            "justify_items": null,
            "left": null,
            "margin": null,
            "max_height": null,
            "max_width": null,
            "min_height": null,
            "min_width": null,
            "object_fit": null,
            "object_position": null,
            "order": null,
            "overflow": null,
            "overflow_x": null,
            "overflow_y": null,
            "padding": null,
            "right": null,
            "top": null,
            "visibility": null,
            "width": null
          }
        },
        "a448e0e460334049adbedc373c5230c1": {
          "model_module": "@jupyter-widgets/base",
          "model_name": "LayoutModel",
          "model_module_version": "1.2.0",
          "state": {
            "_model_module": "@jupyter-widgets/base",
            "_model_module_version": "1.2.0",
            "_model_name": "LayoutModel",
            "_view_count": null,
            "_view_module": "@jupyter-widgets/base",
            "_view_module_version": "1.2.0",
            "_view_name": "LayoutView",
            "align_content": null,
            "align_items": null,
            "align_self": null,
            "border": null,
            "bottom": null,
            "display": null,
            "flex": null,
            "flex_flow": null,
            "grid_area": null,
            "grid_auto_columns": null,
            "grid_auto_flow": null,
            "grid_auto_rows": null,
            "grid_column": null,
            "grid_gap": null,
            "grid_row": null,
            "grid_template_areas": null,
            "grid_template_columns": null,
            "grid_template_rows": null,
            "height": null,
            "justify_content": null,
            "justify_items": null,
            "left": null,
            "margin": null,
            "max_height": null,
            "max_width": null,
            "min_height": null,
            "min_width": null,
            "object_fit": null,
            "object_position": null,
            "order": null,
            "overflow": null,
            "overflow_x": null,
            "overflow_y": null,
            "padding": null,
            "right": null,
            "top": null,
            "visibility": null,
            "width": null
          }
        },
        "28b9b695d5214a13bd082749a79c73b8": {
          "model_module": "@jupyter-widgets/controls",
          "model_name": "DescriptionStyleModel",
          "model_module_version": "1.5.0",
          "state": {
            "_model_module": "@jupyter-widgets/controls",
            "_model_module_version": "1.5.0",
            "_model_name": "DescriptionStyleModel",
            "_view_count": null,
            "_view_module": "@jupyter-widgets/base",
            "_view_module_version": "1.2.0",
            "_view_name": "StyleView",
            "description_width": ""
          }
        },
        "5f59b85869c94534a8f7fd30e944b560": {
          "model_module": "@jupyter-widgets/base",
          "model_name": "LayoutModel",
          "model_module_version": "1.2.0",
          "state": {
            "_model_module": "@jupyter-widgets/base",
            "_model_module_version": "1.2.0",
            "_model_name": "LayoutModel",
            "_view_count": null,
            "_view_module": "@jupyter-widgets/base",
            "_view_module_version": "1.2.0",
            "_view_name": "LayoutView",
            "align_content": null,
            "align_items": null,
            "align_self": null,
            "border": null,
            "bottom": null,
            "display": null,
            "flex": null,
            "flex_flow": null,
            "grid_area": null,
            "grid_auto_columns": null,
            "grid_auto_flow": null,
            "grid_auto_rows": null,
            "grid_column": null,
            "grid_gap": null,
            "grid_row": null,
            "grid_template_areas": null,
            "grid_template_columns": null,
            "grid_template_rows": null,
            "height": null,
            "justify_content": null,
            "justify_items": null,
            "left": null,
            "margin": null,
            "max_height": null,
            "max_width": null,
            "min_height": null,
            "min_width": null,
            "object_fit": null,
            "object_position": null,
            "order": null,
            "overflow": null,
            "overflow_x": null,
            "overflow_y": null,
            "padding": null,
            "right": null,
            "top": null,
            "visibility": null,
            "width": null
          }
        },
        "f191b74f155f4f9bb4d61ca38407b44b": {
          "model_module": "@jupyter-widgets/controls",
          "model_name": "ProgressStyleModel",
          "model_module_version": "1.5.0",
          "state": {
            "_model_module": "@jupyter-widgets/controls",
            "_model_module_version": "1.5.0",
            "_model_name": "ProgressStyleModel",
            "_view_count": null,
            "_view_module": "@jupyter-widgets/base",
            "_view_module_version": "1.2.0",
            "_view_name": "StyleView",
            "bar_color": null,
            "description_width": ""
          }
        },
        "5a4ff426af454df98aef3ab35170e180": {
          "model_module": "@jupyter-widgets/base",
          "model_name": "LayoutModel",
          "model_module_version": "1.2.0",
          "state": {
            "_model_module": "@jupyter-widgets/base",
            "_model_module_version": "1.2.0",
            "_model_name": "LayoutModel",
            "_view_count": null,
            "_view_module": "@jupyter-widgets/base",
            "_view_module_version": "1.2.0",
            "_view_name": "LayoutView",
            "align_content": null,
            "align_items": null,
            "align_self": null,
            "border": null,
            "bottom": null,
            "display": null,
            "flex": null,
            "flex_flow": null,
            "grid_area": null,
            "grid_auto_columns": null,
            "grid_auto_flow": null,
            "grid_auto_rows": null,
            "grid_column": null,
            "grid_gap": null,
            "grid_row": null,
            "grid_template_areas": null,
            "grid_template_columns": null,
            "grid_template_rows": null,
            "height": null,
            "justify_content": null,
            "justify_items": null,
            "left": null,
            "margin": null,
            "max_height": null,
            "max_width": null,
            "min_height": null,
            "min_width": null,
            "object_fit": null,
            "object_position": null,
            "order": null,
            "overflow": null,
            "overflow_x": null,
            "overflow_y": null,
            "padding": null,
            "right": null,
            "top": null,
            "visibility": null,
            "width": null
          }
        },
        "9b0ba654c1ec474b8530ad30ecde7fd8": {
          "model_module": "@jupyter-widgets/controls",
          "model_name": "DescriptionStyleModel",
          "model_module_version": "1.5.0",
          "state": {
            "_model_module": "@jupyter-widgets/controls",
            "_model_module_version": "1.5.0",
            "_model_name": "DescriptionStyleModel",
            "_view_count": null,
            "_view_module": "@jupyter-widgets/base",
            "_view_module_version": "1.2.0",
            "_view_name": "StyleView",
            "description_width": ""
          }
        }
      }
    }
  },
  "cells": [
    {
      "cell_type": "markdown",
      "metadata": {
        "id": "view-in-github",
        "colab_type": "text"
      },
      "source": [
        "<a href=\"https://colab.research.google.com/github/ritvic/Few-Shot-Learning-using-Prototypical-Network/blob/main/Few_Shot_Learning_using_Prototypical_Network.ipynb\" target=\"_parent\"><img src=\"https://colab.research.google.com/assets/colab-badge.svg\" alt=\"Open In Colab\"/></a>"
      ]
    },
    {
      "cell_type": "markdown",
      "metadata": {
        "collapsed": false,
        "pycharm": {
          "name": "#%% md\n"
        },
        "id": "x_bBRt3U7Krp"
      },
      "source": [
        "## Discovering Prototypical Networks\n"
      ]
    },
    {
      "cell_type": "code",
      "metadata": {
        "id": "1_tS8L5S9OTY",
        "colab": {
          "base_uri": "https://localhost:8080/"
        },
        "outputId": "58514e9a-c0a4-404a-e814-c901f1f7c6d2"
      },
      "source": [
        "!pip install easyfsl"
      ],
      "execution_count": 1,
      "outputs": [
        {
          "output_type": "stream",
          "name": "stdout",
          "text": [
            "Looking in indexes: https://pypi.org/simple, https://us-python.pkg.dev/colab-wheels/public/simple/\n",
            "Collecting easyfsl\n",
            "  Downloading easyfsl-1.1.0-py3-none-any.whl (45 kB)\n",
            "\u001b[K     |████████████████████████████████| 45 kB 3.5 MB/s \n",
            "\u001b[?25hRequirement already satisfied: matplotlib>=3.0.0 in /usr/local/lib/python3.8/dist-packages (from easyfsl) (3.2.2)\n",
            "Requirement already satisfied: torchvision>=0.7.0 in /usr/local/lib/python3.8/dist-packages (from easyfsl) (0.14.0+cu116)\n",
            "Requirement already satisfied: tqdm>=4.1.0 in /usr/local/lib/python3.8/dist-packages (from easyfsl) (4.64.1)\n",
            "Requirement already satisfied: torch>=1.4.0 in /usr/local/lib/python3.8/dist-packages (from easyfsl) (1.13.0+cu116)\n",
            "Requirement already satisfied: pandas>=1.1.0 in /usr/local/lib/python3.8/dist-packages (from easyfsl) (1.3.5)\n",
            "Requirement already satisfied: python-dateutil>=2.1 in /usr/local/lib/python3.8/dist-packages (from matplotlib>=3.0.0->easyfsl) (2.8.2)\n",
            "Requirement already satisfied: pyparsing!=2.0.4,!=2.1.2,!=2.1.6,>=2.0.1 in /usr/local/lib/python3.8/dist-packages (from matplotlib>=3.0.0->easyfsl) (3.0.9)\n",
            "Requirement already satisfied: numpy>=1.11 in /usr/local/lib/python3.8/dist-packages (from matplotlib>=3.0.0->easyfsl) (1.21.6)\n",
            "Requirement already satisfied: kiwisolver>=1.0.1 in /usr/local/lib/python3.8/dist-packages (from matplotlib>=3.0.0->easyfsl) (1.4.4)\n",
            "Requirement already satisfied: cycler>=0.10 in /usr/local/lib/python3.8/dist-packages (from matplotlib>=3.0.0->easyfsl) (0.11.0)\n",
            "Requirement already satisfied: pytz>=2017.3 in /usr/local/lib/python3.8/dist-packages (from pandas>=1.1.0->easyfsl) (2022.6)\n",
            "Requirement already satisfied: six>=1.5 in /usr/local/lib/python3.8/dist-packages (from python-dateutil>=2.1->matplotlib>=3.0.0->easyfsl) (1.15.0)\n",
            "Requirement already satisfied: typing-extensions in /usr/local/lib/python3.8/dist-packages (from torch>=1.4.0->easyfsl) (4.4.0)\n",
            "Requirement already satisfied: pillow!=8.3.*,>=5.3.0 in /usr/local/lib/python3.8/dist-packages (from torchvision>=0.7.0->easyfsl) (7.1.2)\n",
            "Requirement already satisfied: requests in /usr/local/lib/python3.8/dist-packages (from torchvision>=0.7.0->easyfsl) (2.23.0)\n",
            "Requirement already satisfied: urllib3!=1.25.0,!=1.25.1,<1.26,>=1.21.1 in /usr/local/lib/python3.8/dist-packages (from requests->torchvision>=0.7.0->easyfsl) (1.24.3)\n",
            "Requirement already satisfied: certifi>=2017.4.17 in /usr/local/lib/python3.8/dist-packages (from requests->torchvision>=0.7.0->easyfsl) (2022.12.7)\n",
            "Requirement already satisfied: chardet<4,>=3.0.2 in /usr/local/lib/python3.8/dist-packages (from requests->torchvision>=0.7.0->easyfsl) (3.0.4)\n",
            "Requirement already satisfied: idna<3,>=2.5 in /usr/local/lib/python3.8/dist-packages (from requests->torchvision>=0.7.0->easyfsl) (2.10)\n",
            "Installing collected packages: easyfsl\n",
            "Successfully installed easyfsl-1.1.0\n"
          ]
        }
      ]
    },
    {
      "cell_type": "code",
      "metadata": {
        "collapsed": true,
        "id": "gD5jDtGZ7Krp"
      },
      "source": [
        "import torch\n",
        "from torch import nn, optim\n",
        "from torch.utils.data import DataLoader\n",
        "from torchvision import transforms\n",
        "from torchvision.datasets import Omniglot\n",
        "from torchvision.models import resnet18\n",
        "from tqdm import tqdm\n",
        "\n",
        "from easyfsl.samplers import TaskSampler\n",
        "from easyfsl.utils import plot_images, sliding_average"
      ],
      "execution_count": 4,
      "outputs": []
    },
    {
      "cell_type": "markdown",
      "metadata": {
        "collapsed": false,
        "pycharm": {
          "name": "#%% md\n"
        },
        "id": "Z8nQO1Ch7Krq"
      },
      "source": [
        "Now, we need a dataset. I suggest we use [Omniglot](https://github.com/brendenlake/omniglot), a popular MNIST-like benchmark\n",
        "for few-shot classification. It contains 1623 characters from 50 different alphabets. Each character has been written by\n",
        "20 different people. \n",
        "\n",
        "Bonus: it's part of the `torchivision` package, so it's very easy to download\n",
        "and work with."
      ]
    },
    {
      "cell_type": "code",
      "metadata": {
        "pycharm": {
          "name": "#%%\n"
        },
        "id": "OrUCQ7AslpFO",
        "colab": {
          "base_uri": "https://localhost:8080/",
          "height": 170,
          "referenced_widgets": [
            "bb323c58b9ce4d8d9f663ce32bc77c02",
            "58a04dcc8a2649b0921bcff87e21c6fd",
            "3209590eb9b645b09d98add06f14a670",
            "56652b2172674b86be7acecfb09cfa72",
            "1170ad97fc744178b76a4dac79ba8426",
            "b9ee797015f54e299981b94c86dc30b2",
            "e6256ec7bacf4ea78a009101f82d9f8c",
            "6f7e460fd0bf4aa998060de4385f0b98",
            "584f980ac3e24a60b442b0d930731eb6",
            "b5ad199cbbd942d0979a033ff0814127",
            "ca66c09f04c7453f95d810a995d8b0ec",
            "6bb54a2e7cb544959577b1dcd12bfeb3",
            "7a248131ec0c4fbbb4a7dc1ff2b3582b",
            "a94797ef316d4e73a3671142c2bc061b",
            "c2e62c49edc04a16ba362301130eafb0",
            "c8f00f2864884e90b13011e7da199f5c",
            "b94ceab941d44fedb88f091743ee56e7",
            "e2a2dc6e7ef443a3bc714ba160a8d6c9",
            "cd74b45417424fe1821b44d9303a4cdf",
            "5fe26e21bacf442b9d01b7a34f0d73a7",
            "b95ca50822ff4d669bf66507f15ced77",
            "1af51e99da3b4955bcbf012d906295bb"
          ]
        },
        "outputId": "81bd29a7-1016-49f3-c8b1-c51112941265"
      },
      "source": [
        "image_size = 28\n",
        "\n",
        "# NB: background=True selects the train set, background=False selects the test set\n",
        "# It's the nomenclature from the original paper, we just have to deal with it\n",
        "\n",
        "train_set = Omniglot(\n",
        "    root=\"./data\",\n",
        "    background=True,\n",
        "    transform=transforms.Compose(\n",
        "        [\n",
        "            transforms.Grayscale(num_output_channels=3),\n",
        "            transforms.RandomResizedCrop(image_size),\n",
        "            transforms.RandomHorizontalFlip(),\n",
        "            transforms.ToTensor(),\n",
        "        ]\n",
        "    ),\n",
        "    download=True,\n",
        ")\n",
        "test_set = Omniglot(\n",
        "    root=\"./data\",\n",
        "    background=False,\n",
        "    transform=transforms.Compose(\n",
        "        [\n",
        "            # Omniglot images have 1 channel, but our model will expect 3-channel images\n",
        "            transforms.Grayscale(num_output_channels=3),\n",
        "            transforms.Resize([int(image_size * 1.15), int(image_size * 1.15)]),\n",
        "            transforms.CenterCrop(image_size),\n",
        "            transforms.ToTensor(),\n",
        "        ]\n",
        "    ),\n",
        "    download=True,\n",
        ")"
      ],
      "execution_count": 3,
      "outputs": [
        {
          "output_type": "stream",
          "name": "stdout",
          "text": [
            "Downloading https://raw.githubusercontent.com/brendenlake/omniglot/master/python/images_background.zip to ./data/omniglot-py/images_background.zip\n"
          ]
        },
        {
          "output_type": "display_data",
          "data": {
            "text/plain": [
              "  0%|          | 0/9464212 [00:00<?, ?it/s]"
            ],
            "application/vnd.jupyter.widget-view+json": {
              "version_major": 2,
              "version_minor": 0,
              "model_id": "bb323c58b9ce4d8d9f663ce32bc77c02"
            }
          },
          "metadata": {}
        },
        {
          "output_type": "stream",
          "name": "stdout",
          "text": [
            "Extracting ./data/omniglot-py/images_background.zip to ./data/omniglot-py\n",
            "Downloading https://raw.githubusercontent.com/brendenlake/omniglot/master/python/images_evaluation.zip to ./data/omniglot-py/images_evaluation.zip\n"
          ]
        },
        {
          "output_type": "display_data",
          "data": {
            "text/plain": [
              "  0%|          | 0/6462886 [00:00<?, ?it/s]"
            ],
            "application/vnd.jupyter.widget-view+json": {
              "version_major": 2,
              "version_minor": 0,
              "model_id": "6bb54a2e7cb544959577b1dcd12bfeb3"
            }
          },
          "metadata": {}
        },
        {
          "output_type": "stream",
          "name": "stdout",
          "text": [
            "Extracting ./data/omniglot-py/images_evaluation.zip to ./data/omniglot-py\n"
          ]
        }
      ]
    },
    {
      "cell_type": "markdown",
      "metadata": {
        "collapsed": false,
        "pycharm": {
          "name": "#%% md\n"
        },
        "id": "7HVUQX1F7Krq"
      },
      "source": [
        "Simply put, in a few-shot classification task, we have a labeled support set (which kind of acts\n",
        "like a catalog) and query set. For each image of the query set, we want to predict a label from the\n",
        "labels present in the support set. A few-shot classification model has to use the information from the\n",
        "support set in order to classify query images. We say *few-shot* when the support set contains very\n",
        "few images for each label (typically less than 10). The figure below shows a 3-way 2-shots classification task. \"3-way\" means \"3 different classes\" and \"2-shots\" means \"2 examples per class\".\n",
        "We expect a model that has never seen any Saint-Bernard, Pug or Labrador during its training to successfully\n",
        "predict the query labels. The support set is the only information that the model has regarding what a Saint-Bernard,\n",
        "a Pug or a Labrador can be.\n",
        "\n",
        "![few-shot classification task](https://images.ctfassets.net/be04ylp8y0qc/bZhboqYXfYeW4I88xmMNv/7c5efdc368206feaad045c674b1ced95/1_AteD0yXLkQ1BbjQTB3Ytwg.png?fm=webp)\n",
        "\n",
        "Most few-shot classification methods are *metric-based*. It works in two phases : 1) they use a CNN to project both\n",
        "support and query images into a feature space, and 2) they classify query images by comparing them to support images.\n",
        "If, in the feature space, an image is closer to pugs than it is to labradors and Saint-Bernards, we will guess that\n",
        "it's a pug.\n",
        "\n",
        "From there, we have two challenges :\n",
        "\n",
        "1. Find the good feature space. This is what convolutional networks are for. A CNN is basically a function that takes an image as input and outputs a representation (or *embedding*) of this image in a given feature space. The challenge here is to have a CNN that will\n",
        "project images of the same class into representations that are close to each other, even if it has not been trained\n",
        "on objects of this class.\n",
        "2. Find a good way to compare the representations in the feature space. This is the job of Prototypical Networks.\n",
        "\n",
        "\n",
        "![Prototypical classification](https://images.ctfassets.net/be04ylp8y0qc/45M9UcUp6KnzwDaBHeGZb7/bb2dcda5942ee7320600125ac2310af6/0_M0GSRZri859fGo48.png?fm=webp)\n",
        "\n",
        "From the support set, Prototypical Networks compute a prototype for each class, which is the mean of all embeddings\n",
        "of support images from this class. Then, each query is simply classified as the nearest prototype in the feature space,\n",
        "with respect to euclidean distance.\n",
        "\n",
        "\n",
        "We simply define Prototypical Networks as a torch module, with a `forward()` method.\n",
        "Two things to notice:\n",
        "\n",
        "1. We initiate `PrototypicalNetworks` with a *backbone*. This is the feature extractor we were talking about.\n",
        "Here, we use as backbone a ResNet18 pretrained on ImageNet, with its head chopped off and replaced by a `Flatten`\n",
        "layer. The output of the backbone, for an input image, will be a 512-dimensional feature vector.\n",
        "2. The forward method doesn't only take one input tensor, but 3: in order to predict the labels of query images,\n",
        "we also need support images and labels as inputs of the model."
      ]
    },
    {
      "cell_type": "code",
      "metadata": {
        "pycharm": {
          "name": "#%%\n"
        },
        "id": "iCRwLATr7Krr",
        "colab": {
          "base_uri": "https://localhost:8080/",
          "height": 1000,
          "referenced_widgets": [
            "b6ccc9746ac543a8ae7eb8f67c841be6",
            "4fed6e2c715b44139a2ee72589fa1d48",
            "ca9dc162f8c741cabb7eb6f3a0e20c9f",
            "a3f89ec0fdc340a49289bb03d1d36c06",
            "d6b0530354a5464db13e413d187c5a68",
            "a448e0e460334049adbedc373c5230c1",
            "28b9b695d5214a13bd082749a79c73b8",
            "5f59b85869c94534a8f7fd30e944b560",
            "f191b74f155f4f9bb4d61ca38407b44b",
            "5a4ff426af454df98aef3ab35170e180",
            "9b0ba654c1ec474b8530ad30ecde7fd8"
          ]
        },
        "outputId": "ce1e463c-77fe-4940-95a0-7fd6896678d0"
      },
      "source": [
        "class PrototypicalNetworks(nn.Module):\n",
        "    def __init__(self, backbone: nn.Module):\n",
        "        super(PrototypicalNetworks, self).__init__()\n",
        "        self.backbone = backbone\n",
        "\n",
        "    def forward(\n",
        "        self,\n",
        "        support_images: torch.Tensor,\n",
        "        support_labels: torch.Tensor,\n",
        "        query_images: torch.Tensor,\n",
        "    ) -> torch.Tensor:\n",
        "        \"\"\"\n",
        "        Predict query labels using labeled support images.\n",
        "        \"\"\"\n",
        "        # Extract the features of support and query images\n",
        "        z_support = self.backbone.forward(support_images)\n",
        "        z_query = self.backbone.forward(query_images)\n",
        "\n",
        "        # Infer the number of different classes from the labels of the support set\n",
        "        n_way = len(torch.unique(support_labels))\n",
        "        # Prototype i is the mean of all instances of features corresponding to labels == i\n",
        "        z_proto = torch.cat(\n",
        "            [\n",
        "                z_support[torch.nonzero(support_labels == label)].mean(0)\n",
        "                for label in range(n_way)\n",
        "            ]\n",
        "        )\n",
        "\n",
        "        # Compute the euclidean distance from queries to prototypes\n",
        "        dists = torch.cdist(z_query, z_proto)\n",
        "\n",
        "        # And here is the super complicated operation to transform those distances into classification scores!\n",
        "        scores = -dists\n",
        "        return scores\n",
        "\n",
        "\n",
        "convolutional_network = resnet18(pretrained=True)\n",
        "convolutional_network.fc = nn.Flatten()\n",
        "print(convolutional_network)\n",
        "\n",
        "model = PrototypicalNetworks(convolutional_network).cuda()"
      ],
      "execution_count": 5,
      "outputs": [
        {
          "output_type": "stream",
          "name": "stderr",
          "text": [
            "/usr/local/lib/python3.8/dist-packages/torchvision/models/_utils.py:208: UserWarning: The parameter 'pretrained' is deprecated since 0.13 and may be removed in the future, please use 'weights' instead.\n",
            "  warnings.warn(\n",
            "/usr/local/lib/python3.8/dist-packages/torchvision/models/_utils.py:223: UserWarning: Arguments other than a weight enum or `None` for 'weights' are deprecated since 0.13 and may be removed in the future. The current behavior is equivalent to passing `weights=ResNet18_Weights.IMAGENET1K_V1`. You can also use `weights=ResNet18_Weights.DEFAULT` to get the most up-to-date weights.\n",
            "  warnings.warn(msg)\n",
            "Downloading: \"https://download.pytorch.org/models/resnet18-f37072fd.pth\" to /root/.cache/torch/hub/checkpoints/resnet18-f37072fd.pth\n"
          ]
        },
        {
          "output_type": "display_data",
          "data": {
            "text/plain": [
              "  0%|          | 0.00/44.7M [00:00<?, ?B/s]"
            ],
            "application/vnd.jupyter.widget-view+json": {
              "version_major": 2,
              "version_minor": 0,
              "model_id": "b6ccc9746ac543a8ae7eb8f67c841be6"
            }
          },
          "metadata": {}
        },
        {
          "output_type": "stream",
          "name": "stdout",
          "text": [
            "ResNet(\n",
            "  (conv1): Conv2d(3, 64, kernel_size=(7, 7), stride=(2, 2), padding=(3, 3), bias=False)\n",
            "  (bn1): BatchNorm2d(64, eps=1e-05, momentum=0.1, affine=True, track_running_stats=True)\n",
            "  (relu): ReLU(inplace=True)\n",
            "  (maxpool): MaxPool2d(kernel_size=3, stride=2, padding=1, dilation=1, ceil_mode=False)\n",
            "  (layer1): Sequential(\n",
            "    (0): BasicBlock(\n",
            "      (conv1): Conv2d(64, 64, kernel_size=(3, 3), stride=(1, 1), padding=(1, 1), bias=False)\n",
            "      (bn1): BatchNorm2d(64, eps=1e-05, momentum=0.1, affine=True, track_running_stats=True)\n",
            "      (relu): ReLU(inplace=True)\n",
            "      (conv2): Conv2d(64, 64, kernel_size=(3, 3), stride=(1, 1), padding=(1, 1), bias=False)\n",
            "      (bn2): BatchNorm2d(64, eps=1e-05, momentum=0.1, affine=True, track_running_stats=True)\n",
            "    )\n",
            "    (1): BasicBlock(\n",
            "      (conv1): Conv2d(64, 64, kernel_size=(3, 3), stride=(1, 1), padding=(1, 1), bias=False)\n",
            "      (bn1): BatchNorm2d(64, eps=1e-05, momentum=0.1, affine=True, track_running_stats=True)\n",
            "      (relu): ReLU(inplace=True)\n",
            "      (conv2): Conv2d(64, 64, kernel_size=(3, 3), stride=(1, 1), padding=(1, 1), bias=False)\n",
            "      (bn2): BatchNorm2d(64, eps=1e-05, momentum=0.1, affine=True, track_running_stats=True)\n",
            "    )\n",
            "  )\n",
            "  (layer2): Sequential(\n",
            "    (0): BasicBlock(\n",
            "      (conv1): Conv2d(64, 128, kernel_size=(3, 3), stride=(2, 2), padding=(1, 1), bias=False)\n",
            "      (bn1): BatchNorm2d(128, eps=1e-05, momentum=0.1, affine=True, track_running_stats=True)\n",
            "      (relu): ReLU(inplace=True)\n",
            "      (conv2): Conv2d(128, 128, kernel_size=(3, 3), stride=(1, 1), padding=(1, 1), bias=False)\n",
            "      (bn2): BatchNorm2d(128, eps=1e-05, momentum=0.1, affine=True, track_running_stats=True)\n",
            "      (downsample): Sequential(\n",
            "        (0): Conv2d(64, 128, kernel_size=(1, 1), stride=(2, 2), bias=False)\n",
            "        (1): BatchNorm2d(128, eps=1e-05, momentum=0.1, affine=True, track_running_stats=True)\n",
            "      )\n",
            "    )\n",
            "    (1): BasicBlock(\n",
            "      (conv1): Conv2d(128, 128, kernel_size=(3, 3), stride=(1, 1), padding=(1, 1), bias=False)\n",
            "      (bn1): BatchNorm2d(128, eps=1e-05, momentum=0.1, affine=True, track_running_stats=True)\n",
            "      (relu): ReLU(inplace=True)\n",
            "      (conv2): Conv2d(128, 128, kernel_size=(3, 3), stride=(1, 1), padding=(1, 1), bias=False)\n",
            "      (bn2): BatchNorm2d(128, eps=1e-05, momentum=0.1, affine=True, track_running_stats=True)\n",
            "    )\n",
            "  )\n",
            "  (layer3): Sequential(\n",
            "    (0): BasicBlock(\n",
            "      (conv1): Conv2d(128, 256, kernel_size=(3, 3), stride=(2, 2), padding=(1, 1), bias=False)\n",
            "      (bn1): BatchNorm2d(256, eps=1e-05, momentum=0.1, affine=True, track_running_stats=True)\n",
            "      (relu): ReLU(inplace=True)\n",
            "      (conv2): Conv2d(256, 256, kernel_size=(3, 3), stride=(1, 1), padding=(1, 1), bias=False)\n",
            "      (bn2): BatchNorm2d(256, eps=1e-05, momentum=0.1, affine=True, track_running_stats=True)\n",
            "      (downsample): Sequential(\n",
            "        (0): Conv2d(128, 256, kernel_size=(1, 1), stride=(2, 2), bias=False)\n",
            "        (1): BatchNorm2d(256, eps=1e-05, momentum=0.1, affine=True, track_running_stats=True)\n",
            "      )\n",
            "    )\n",
            "    (1): BasicBlock(\n",
            "      (conv1): Conv2d(256, 256, kernel_size=(3, 3), stride=(1, 1), padding=(1, 1), bias=False)\n",
            "      (bn1): BatchNorm2d(256, eps=1e-05, momentum=0.1, affine=True, track_running_stats=True)\n",
            "      (relu): ReLU(inplace=True)\n",
            "      (conv2): Conv2d(256, 256, kernel_size=(3, 3), stride=(1, 1), padding=(1, 1), bias=False)\n",
            "      (bn2): BatchNorm2d(256, eps=1e-05, momentum=0.1, affine=True, track_running_stats=True)\n",
            "    )\n",
            "  )\n",
            "  (layer4): Sequential(\n",
            "    (0): BasicBlock(\n",
            "      (conv1): Conv2d(256, 512, kernel_size=(3, 3), stride=(2, 2), padding=(1, 1), bias=False)\n",
            "      (bn1): BatchNorm2d(512, eps=1e-05, momentum=0.1, affine=True, track_running_stats=True)\n",
            "      (relu): ReLU(inplace=True)\n",
            "      (conv2): Conv2d(512, 512, kernel_size=(3, 3), stride=(1, 1), padding=(1, 1), bias=False)\n",
            "      (bn2): BatchNorm2d(512, eps=1e-05, momentum=0.1, affine=True, track_running_stats=True)\n",
            "      (downsample): Sequential(\n",
            "        (0): Conv2d(256, 512, kernel_size=(1, 1), stride=(2, 2), bias=False)\n",
            "        (1): BatchNorm2d(512, eps=1e-05, momentum=0.1, affine=True, track_running_stats=True)\n",
            "      )\n",
            "    )\n",
            "    (1): BasicBlock(\n",
            "      (conv1): Conv2d(512, 512, kernel_size=(3, 3), stride=(1, 1), padding=(1, 1), bias=False)\n",
            "      (bn1): BatchNorm2d(512, eps=1e-05, momentum=0.1, affine=True, track_running_stats=True)\n",
            "      (relu): ReLU(inplace=True)\n",
            "      (conv2): Conv2d(512, 512, kernel_size=(3, 3), stride=(1, 1), padding=(1, 1), bias=False)\n",
            "      (bn2): BatchNorm2d(512, eps=1e-05, momentum=0.1, affine=True, track_running_stats=True)\n",
            "    )\n",
            "  )\n",
            "  (avgpool): AdaptiveAvgPool2d(output_size=(1, 1))\n",
            "  (fc): Flatten(start_dim=1, end_dim=-1)\n",
            ")\n"
          ]
        }
      ]
    },
    {
      "cell_type": "markdown",
      "metadata": {
        "collapsed": false,
        "pycharm": {
          "name": "#%% md\n"
        },
        "id": "JnWfQfmZ7Krs"
      },
      "source": [
        "We used a pretrained feature extractor,\n",
        "so our model should already be up and running. Let's see that.\n",
        "\n",
        "Here we create a dataloader that will feed few-shot classification tasks to our model.\n",
        "But a regular PyTorch dataloader will feed batches of images, with no consideration for\n",
        "their label or whether they are support or query. We need 2 specific features in our case.\n",
        "\n",
        "1. We need images evenly distributed between a given number of classes.\n",
        "2. We need them split between support and query sets.\n",
        "\n",
        "For the first point, I wrote a custom sampler: it first samples `n_way` classes from the dataset,\n",
        "then it samples `n_shot + n_query` images for each class (for a total of `n_way * (n_shot + n_query)`\n",
        "images in each batch).\n",
        "For the second point, I have a custom collate function to replace the built-in PyTorch `collate_fn`.\n",
        "This model feed each batch as the combination of 5 items:\n",
        "\n",
        "1. support images\n",
        "2. support labels between 0 and `n_way`\n",
        "3. query images\n",
        "4. query labels between 0 and `n_way`\n",
        "5. a mapping of each label in `range(n_way)` to its true class id in the dataset\n",
        "(it's not used by the model but it's very useful for us to know what the true class is)\n",
        "\n",
        "We can see that in PyTorch, a DataLoader is basically the combination of a sampler, a dataset and a collate function\n",
        "(and some multiprocessing voodoo): sampler says which items to fetch, the dataset says how to fetch them, and\n",
        "the collate function says how to present these items together."
      ]
    },
    {
      "cell_type": "code",
      "metadata": {
        "pycharm": {
          "name": "#%%\n"
        },
        "id": "OyS0-oRV7Krt",
        "colab": {
          "base_uri": "https://localhost:8080/"
        },
        "outputId": "4c3fbb63-c181-4dbd-ea47-f000e76e6e24"
      },
      "source": [
        "N_WAY = 5  # Number of classes in a task\n",
        "N_SHOT = 5  # Number of images per class in the support set\n",
        "N_QUERY = 10  # Number of images per class in the query set\n",
        "N_EVALUATION_TASKS = 100\n",
        "\n",
        "# The sampler needs a dataset with a \"get_labels\" method.\n",
        "test_set.get_labels = lambda: [\n",
        "    instance[1] for instance in test_set._flat_character_images\n",
        "]\n",
        "test_sampler = TaskSampler(\n",
        "    test_set, n_way=N_WAY, n_shot=N_SHOT, n_query=N_QUERY, n_tasks=N_EVALUATION_TASKS\n",
        ")\n",
        "\n",
        "test_loader = DataLoader(\n",
        "    test_set,\n",
        "    batch_sampler=test_sampler,\n",
        "    num_workers=12,\n",
        "    pin_memory=True,\n",
        "    collate_fn=test_sampler.episodic_collate_fn,\n",
        ")"
      ],
      "execution_count": 6,
      "outputs": [
        {
          "output_type": "stream",
          "name": "stderr",
          "text": [
            "/usr/local/lib/python3.8/dist-packages/torch/utils/data/dataloader.py:554: UserWarning: This DataLoader will create 12 worker processes in total. Our suggested max number of worker in current system is 2, which is smaller than what this DataLoader is going to create. Please be aware that excessive worker creation might get DataLoader running slow or even freeze, lower the worker number to avoid potential slowness/freeze if necessary.\n",
            "  warnings.warn(_create_warning_msg(\n"
          ]
        }
      ]
    },
    {
      "cell_type": "markdown",
      "metadata": {
        "collapsed": false,
        "pycharm": {
          "name": "#%% md\n"
        },
        "id": "3gseUp_J7Krt"
      },
      "source": [
        "We created a dataloader that will feed us with 5-way 5-shot tasks."
      ]
    },
    {
      "cell_type": "code",
      "metadata": {
        "pycharm": {
          "name": "#%%\n"
        },
        "id": "_FSj8NIr7Krt",
        "colab": {
          "base_uri": "https://localhost:8080/",
          "height": 496
        },
        "outputId": "6cf13a84-c8e0-42ca-913f-5ffc312195de"
      },
      "source": [
        "(\n",
        "    example_support_images,\n",
        "    example_support_labels,\n",
        "    example_query_images,\n",
        "    example_query_labels,\n",
        "    example_class_ids,\n",
        ") = next(iter(test_loader))\n",
        "\n",
        "plot_images(example_support_images, \"support images\", images_per_row=N_SHOT)\n",
        "plot_images(example_query_images, \"query images\", images_per_row=N_QUERY)"
      ],
      "execution_count": 7,
      "outputs": [
        {
          "output_type": "display_data",
          "data": {
            "text/plain": [
              "<Figure size 432x288 with 1 Axes>"
            ],
            "image/png": "[encoded data removed]"
          },
          "metadata": {
            "needs_background": "light"
          }
        },
        {
          "output_type": "display_data",
          "data": {
            "text/plain": [
              "<Figure size 432x288 with 1 Axes>"
            ],
            "image/png": "[encoded data removed]"
          },
          "metadata": {
            "needs_background": "light"
          }
        }
      ]
    },
    {
      "cell_type": "code",
      "metadata": {
        "pycharm": {
          "name": "#%%\n"
        },
        "id": "C2EhF2Fa7Kru",
        "colab": {
          "base_uri": "https://localhost:8080/"
        },
        "outputId": "ff7b77e0-e5b7-4649-c430-84c9144957c0"
      },
      "source": [
        "model.eval()\n",
        "example_scores = model(\n",
        "    example_support_images.cuda(),\n",
        "    example_support_labels.cuda(),\n",
        "    example_query_images.cuda(),\n",
        ").detach()\n",
        "\n",
        "_, example_predicted_labels = torch.max(example_scores.data, 1)\n",
        "\n",
        "print(\"Ground Truth / Predicted\")\n",
        "for i in range(len(example_query_labels)):\n",
        "    print(\n",
        "        f\"{test_set._characters[example_class_ids[example_query_labels[i]]]} / {test_set._characters[example_class_ids[example_predicted_labels[i]]]}\"\n",
        "    )"
      ],
      "execution_count": 8,
      "outputs": [
        {
          "output_type": "stream",
          "name": "stdout",
          "text": [
            "Ground Truth / Predicted\n",
            "Ge_ez/character17 / Angelic/character07\n",
            "Ge_ez/character17 / Ge_ez/character17\n",
            "Ge_ez/character17 / Ge_ez/character17\n",
            "Ge_ez/character17 / Ge_ez/character17\n",
            "Ge_ez/character17 / Angelic/character07\n",
            "Ge_ez/character17 / Ge_ez/character17\n",
            "Ge_ez/character17 / Ge_ez/character17\n",
            "Ge_ez/character17 / Ge_ez/character17\n",
            "Ge_ez/character17 / Ge_ez/character17\n",
            "Ge_ez/character17 / Ge_ez/character17\n",
            "Angelic/character07 / Angelic/character07\n",
            "Angelic/character07 / Angelic/character07\n",
            "Angelic/character07 / Ge_ez/character17\n",
            "Angelic/character07 / Angelic/character07\n",
            "Angelic/character07 / Ge_ez/character17\n",
            "Angelic/character07 / Ge_ez/character17\n",
            "Angelic/character07 / Angelic/character07\n",
            "Angelic/character07 / Ge_ez/character17\n",
            "Angelic/character07 / Angelic/character07\n",
            "Angelic/character07 / Ge_ez/character17\n",
            "Malayalam/character22 / Malayalam/character22\n",
            "Malayalam/character22 / Sylheti/character27\n",
            "Malayalam/character22 / Malayalam/character22\n",
            "Malayalam/character22 / Malayalam/character22\n",
            "Malayalam/character22 / Malayalam/character22\n",
            "Malayalam/character22 / Malayalam/character22\n",
            "Malayalam/character22 / Malayalam/character22\n",
            "Malayalam/character22 / Malayalam/character22\n",
            "Malayalam/character22 / Malayalam/character22\n",
            "Malayalam/character22 / Malayalam/character22\n",
            "Gurmukhi/character10 / Gurmukhi/character10\n",
            "Gurmukhi/character10 / Gurmukhi/character10\n",
            "Gurmukhi/character10 / Gurmukhi/character10\n",
            "Gurmukhi/character10 / Gurmukhi/character10\n",
            "Gurmukhi/character10 / Gurmukhi/character10\n",
            "Gurmukhi/character10 / Gurmukhi/character10\n",
            "Gurmukhi/character10 / Gurmukhi/character10\n",
            "Gurmukhi/character10 / Gurmukhi/character10\n",
            "Gurmukhi/character10 / Gurmukhi/character10\n",
            "Gurmukhi/character10 / Gurmukhi/character10\n",
            "Sylheti/character27 / Sylheti/character27\n",
            "Sylheti/character27 / Sylheti/character27\n",
            "Sylheti/character27 / Sylheti/character27\n",
            "Sylheti/character27 / Ge_ez/character17\n",
            "Sylheti/character27 / Sylheti/character27\n",
            "Sylheti/character27 / Sylheti/character27\n",
            "Sylheti/character27 / Sylheti/character27\n",
            "Sylheti/character27 / Sylheti/character27\n",
            "Sylheti/character27 / Sylheti/character27\n",
            "Sylheti/character27 / Gurmukhi/character10\n"
          ]
        }
      ]
    },
    {
      "cell_type": "markdown",
      "metadata": {
        "collapsed": false,
        "pycharm": {
          "name": "#%% md\n"
        },
        "id": "TznXhcUL7Kru"
      },
      "source": [
        "Model was trained on very different images, and has only seen 5 examples for each class!"
      ]
    },
    {
      "cell_type": "code",
      "metadata": {
        "pycharm": {
          "name": "#%%\n"
        },
        "id": "UW5Rxifk7Kru",
        "colab": {
          "base_uri": "https://localhost:8080/"
        },
        "outputId": "47e6e86e-e6d6-40f7-82f5-abbb3a1ae581"
      },
      "source": [
        "def evaluate_on_one_task(\n",
        "    support_images: torch.Tensor,\n",
        "    support_labels: torch.Tensor,\n",
        "    query_images: torch.Tensor,\n",
        "    query_labels: torch.Tensor,\n",
        ") -> [int, int]:\n",
        "    \"\"\"\n",
        "    Returns the number of correct predictions of query labels, and the total number of predictions.\n",
        "    \"\"\"\n",
        "    return (\n",
        "        torch.max(\n",
        "            model(support_images.cuda(), support_labels.cuda(), query_images.cuda())\n",
        "            .detach()\n",
        "            .data,\n",
        "            1,\n",
        "        )[1]\n",
        "        == query_labels.cuda()\n",
        "    ).sum().item(), len(query_labels)\n",
        "\n",
        "\n",
        "def evaluate(data_loader: DataLoader):\n",
        "    # We'll count everything and compute the ratio at the end\n",
        "    total_predictions = 0\n",
        "    correct_predictions = 0\n",
        "\n",
        "    # eval mode affects the behaviour of some layers (such as batch normalization or dropout)\n",
        "    # no_grad() tells torch not to keep in memory the whole computational graph (it's more lightweight this way)\n",
        "    model.eval()\n",
        "    with torch.no_grad():\n",
        "        for episode_index, (\n",
        "            support_images,\n",
        "            support_labels,\n",
        "            query_images,\n",
        "            query_labels,\n",
        "            class_ids,\n",
        "        ) in tqdm(enumerate(data_loader), total=len(data_loader)):\n",
        "\n",
        "            correct, total = evaluate_on_one_task(\n",
        "                support_images, support_labels, query_images, query_labels\n",
        "            )\n",
        "\n",
        "            total_predictions += total\n",
        "            correct_predictions += correct\n",
        "\n",
        "    print(\n",
        "        f\"Model tested on {len(data_loader)} tasks. Accuracy: {(100 * correct_predictions/total_predictions):.2f}%\"\n",
        "    )\n",
        "\n",
        "\n",
        "evaluate(test_loader)"
      ],
      "execution_count": 9,
      "outputs": [
        {
          "output_type": "stream",
          "name": "stderr",
          "text": [
            "100%|██████████| 100/100 [00:04<00:00, 22.99it/s]"
          ]
        },
        {
          "output_type": "stream",
          "name": "stdout",
          "text": [
            "Model tested on 100 tasks. Accuracy: 86.46%\n"
          ]
        },
        {
          "output_type": "stream",
          "name": "stderr",
          "text": [
            "\n"
          ]
        }
      ]
    },
    {
      "cell_type": "markdown",
      "metadata": {
        "collapsed": false,
        "pycharm": {
          "name": "#%% md\n"
        },
        "id": "3dMqML2U7Krv"
      },
      "source": [
        "With absolutely zero training on Omniglot images, and only 5 examples per class, we achieve around 86% accuracy!\n"
      ]
    },
    {
      "cell_type": "markdown",
      "metadata": {
        "collapsed": false,
        "pycharm": {
          "name": "#%% md\n"
        },
        "id": "pLCdAgKTlpFU"
      },
      "source": [
        "## Training a meta-learning algorithm\n",
        "\n",
        "Let's use the \"background\" images of Omniglot as training set. Here we prepare a data loader of 40 000 few-shot classification\n",
        "tasks on which we will train our model. The alphabets used in the training set are entirely separated from those used in the testing set.\n",
        "This guarantees that at test time, the model will have to classify characters that were not seen during training."
      ]
    },
    {
      "cell_type": "code",
      "metadata": {
        "pycharm": {
          "name": "#%%\n"
        },
        "id": "YW9DDxbl7Krv"
      },
      "source": [
        "N_TRAINING_EPISODES = 40000\n",
        "N_VALIDATION_TASKS = 100\n",
        "\n",
        "train_set.get_labels = lambda: [instance[1] for instance in train_set._flat_character_images]\n",
        "train_sampler = TaskSampler(\n",
        "    train_set, n_way=N_WAY, n_shot=N_SHOT, n_query=N_QUERY, n_tasks=N_TRAINING_EPISODES\n",
        ")\n",
        "train_loader = DataLoader(\n",
        "    train_set,\n",
        "    batch_sampler=train_sampler,\n",
        "    num_workers=12,\n",
        "    pin_memory=True,\n",
        "    collate_fn=train_sampler.episodic_collate_fn,\n",
        ")"
      ],
      "execution_count": 10,
      "outputs": []
    },
    {
      "cell_type": "markdown",
      "metadata": {
        "collapsed": false,
        "pycharm": {
          "name": "#%% md\n"
        },
        "id": "QK5UN51alpFV"
      },
      "source": [
        "We will keep the same model. So our weights will be pre-trained on ImageNet. If we want to start a training from scratch, we can set `pretrained=False` in the definition of the ResNet.\n",
        "\n",
        "Here we define our loss and our optimizer, and a `fit` method.\n",
        "This method takes a classification task as input (support set and query set). It predicts the labels of the query set\n",
        "based on the information from the support set; then it compares the predicted labels to ground truth query labels,\n",
        "and this gives us a loss value. Then it uses this loss to update the parameters of the model. This is a *meta-training loop*."
      ]
    },
    {
      "cell_type": "code",
      "metadata": {
        "pycharm": {
          "name": "#%%\n"
        },
        "id": "0B1xX1Cb7Krv"
      },
      "source": [
        "criterion = nn.CrossEntropyLoss()\n",
        "optimizer = optim.Adam(model.parameters(), lr=0.001)\n",
        "\n",
        "\n",
        "def fit(\n",
        "    support_images: torch.Tensor,\n",
        "    support_labels: torch.Tensor,\n",
        "    query_images: torch.Tensor,\n",
        "    query_labels: torch.Tensor,\n",
        ") -> float:\n",
        "    optimizer.zero_grad()\n",
        "    classification_scores = model(\n",
        "        support_images.cuda(), support_labels.cuda(), query_images.cuda()\n",
        "    )\n",
        "\n",
        "    loss = criterion(classification_scores, query_labels.cuda())\n",
        "    loss.backward()\n",
        "    optimizer.step()\n",
        "\n",
        "    return loss.item()"
      ],
      "execution_count": 11,
      "outputs": []
    },
    {
      "cell_type": "markdown",
      "metadata": {
        "collapsed": false,
        "pycharm": {
          "name": "#%% md\n"
        },
        "id": "TUFYG6PElpFV"
      },
      "source": [
        "To train the model, we are just going to iterate over a large number of randomly generated few-shot classification tasks,\n",
        "and let the `fit` method update our model after each task. This is called **episodic training**."
      ]
    },
    {
      "cell_type": "code",
      "metadata": {
        "pycharm": {
          "name": "#%%\n"
        },
        "id": "xQyS6uck7Krv",
        "colab": {
          "base_uri": "https://localhost:8080/"
        },
        "outputId": "3d0609fe-8128-4137-8b1a-1835b2294a2e"
      },
      "source": [
        "log_update_frequency = 10\n",
        "\n",
        "all_loss = []\n",
        "model.train()\n",
        "with tqdm(enumerate(train_loader), total=len(train_loader)) as tqdm_train:\n",
        "    for episode_index, (\n",
        "        support_images,\n",
        "        support_labels,\n",
        "        query_images,\n",
        "        query_labels,\n",
        "        _,\n",
        "    ) in tqdm_train:\n",
        "        loss_value = fit(support_images, support_labels, query_images, query_labels)\n",
        "        all_loss.append(loss_value)\n",
        "\n",
        "        if episode_index % log_update_frequency == 0:\n",
        "            tqdm_train.set_postfix(loss=sliding_average(all_loss, log_update_frequency))"
      ],
      "execution_count": 12,
      "outputs": [
        {
          "output_type": "stream",
          "name": "stderr",
          "text": [
            "100%|██████████| 40000/40000 [40:49<00:00, 16.33it/s, loss=0.334]\n"
          ]
        }
      ]
    },
    {
      "cell_type": "code",
      "metadata": {
        "pycharm": {
          "name": "#%%\n"
        },
        "id": "gIatxOADlpFW"
      },
      "source": [
        "# here is already trained model\n",
        "\n",
        "!wget https://public-sicara.s3.eu-central-1.amazonaws.com/easy-fsl/resnet18_with_pretraining.tar\n",
        "model.load_state_dict(torch.load(\"resnet18_with_pretraining.tar\", map_location=\"cuda\"))"
      ],
      "execution_count": null,
      "outputs": []
    },
    {
      "cell_type": "code",
      "metadata": {
        "pycharm": {
          "name": "#%%\n"
        },
        "id": "9bmPWd-8lpFW",
        "colab": {
          "base_uri": "https://localhost:8080/"
        },
        "outputId": "d01390dd-99f2-4d23-b247-6424c777de4e"
      },
      "source": [
        "evaluate(test_loader)"
      ],
      "execution_count": 13,
      "outputs": [
        {
          "output_type": "stream",
          "name": "stderr",
          "text": [
            "100%|██████████| 100/100 [00:04<00:00, 23.15it/s]"
          ]
        },
        {
          "output_type": "stream",
          "name": "stdout",
          "text": [
            "Model tested on 100 tasks. Accuracy: 95.90%\n"
          ]
        },
        {
          "output_type": "stream",
          "name": "stderr",
          "text": [
            "\n"
          ]
        }
      ]
    },
    {
      "cell_type": "markdown",
      "metadata": {
        "collapsed": false,
        "pycharm": {
          "name": "#%% md\n"
        },
        "id": "hbVD5v9OlpFW"
      },
      "source": [
        "Around 98%!\n",
        "\n",
        "It's not surprising that the model performs better after being further trained on Omniglot images than it was with its\n",
        "ImageNet-based parameters. However, we have to keep in mind that the classes on which we just evaluated our model were still\n",
        "**not seen during training**, so 99% (with a 12% improvement over the model trained on ImageNet) seems like a decent performance."
      ]
    }
  ]
}